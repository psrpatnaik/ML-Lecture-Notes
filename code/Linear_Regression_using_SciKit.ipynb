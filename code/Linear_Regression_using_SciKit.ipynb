{
  "nbformat": 4,
  "nbformat_minor": 0,
  "metadata": {
    "colab": {
      "name": "Linear Regression using SciKit",
      "provenance": [],
      "collapsed_sections": []
    },
    "kernelspec": {
      "name": "python3",
      "display_name": "Python 3"
    }
  },
  "cells": [
    {
      "cell_type": "code",
      "metadata": {
        "id": "5h_j8Ci-ytPT"
      },
      "source": [
        "import numpy as np\n",
        "from sklearn.linear_model import LinearRegression\n",
        "import matplotlib.pyplot as plt"
      ],
      "execution_count": 26,
      "outputs": []
    },
    {
      "cell_type": "markdown",
      "metadata": {
        "id": "SPMP0q8Nx1wp"
      },
      "source": [
        "Y = a * x + b, \n",
        "\n",
        "Y = 5 * X + 2"
      ]
    },
    {
      "cell_type": "code",
      "metadata": {
        "id": "R9n70x_1zVGo",
        "colab": {
          "base_uri": "https://localhost:8080/"
        },
        "outputId": "743c04dd-b4d9-44b3-842e-1f04ac40a998"
      },
      "source": [
        "SIZE=100\n",
        "X= np.random.rand(SIZE)\n",
        "print(X.shape)\n",
        "X=X.reshape(SIZE,1)\n",
        "print(X.shape)\n",
        "Ep=np.random.uniform(-0.08,0.02,size=SIZE)\n",
        "Ep=Ep.reshape(SIZE,1)\n",
        "E= Ep+1\n",
        "Y= 5 * E * X + 2"
      ],
      "execution_count": 27,
      "outputs": [
        {
          "output_type": "stream",
          "text": [
            "(100,)\n",
            "(100, 1)\n"
          ],
          "name": "stdout"
        }
      ]
    },
    {
      "cell_type": "code",
      "metadata": {
        "id": "cpPzFw2ZyJLZ",
        "colab": {
          "base_uri": "https://localhost:8080/"
        },
        "outputId": "50d215da-a2ff-4f5d-a583-7d00124ae277"
      },
      "source": [
        "indices=np.arange(0,SIZE)\n",
        "np.random.shuffle(indices)\n",
        "train=indices[0:70]\n",
        "test=indices[70:]\n",
        "X_train=X[train]\n",
        "X_test=X[test]\n",
        "Y_train=Y[train]\n",
        "Y_test=Y[test]\n",
        "model= LinearRegression()\n",
        "model.fit(X_train,Y_train)\n",
        "print(model.intercept_)\n",
        "print(model.coef_)"
      ],
      "execution_count": 28,
      "outputs": [
        {
          "output_type": "stream",
          "text": [
            "[2.00537333]\n",
            "[[4.8254677]]\n"
          ],
          "name": "stdout"
        }
      ]
    },
    {
      "cell_type": "code",
      "metadata": {
        "id": "V43te0797lBu",
        "colab": {
          "base_uri": "https://localhost:8080/",
          "height": 374
        },
        "outputId": "d3626f57-40d7-4da9-ab7c-dd5fb4fd00b0"
      },
      "source": [
        "plt.figure(figsize=(13,6))\n",
        "ax=plt.axes()\n",
        "plt.scatter(X_train,Y_train, color='red')\n",
        "plt.scatter(X_test,Y_test, color='green')\n",
        "Y_original= X * 5 + 2\n",
        "Y_predicted= X * model.coef_ + model.intercept_\n",
        "plt.plot(X,Y_original, color='red')\n",
        "plt.plot(X,Y_predicted, color='green')\n",
        "plt.show()\n"
      ],
      "execution_count": 29,
      "outputs": [
        {
          "output_type": "display_data",
          "data": {
            "image/png": "[encoded data removed]",
            "text/plain": [
              "<Figure size 936x432 with 1 Axes>"
            ]
          },
          "metadata": {
            "tags": [],
            "needs_background": "light"
          }
        }
      ]
    }
  ]
}
